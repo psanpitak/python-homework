{
 "cells": [
  {
   "cell_type": "code",
   "execution_count": 3,
   "metadata": {},
   "outputs": [],
   "source": [
    "import pandas as pd\n",
    "from pathlib import Path"
   ]
  },
  {
   "cell_type": "code",
   "execution_count": 4,
   "metadata": {},
   "outputs": [],
   "source": [
    "df = pd.read_csv(\"budget_data.csv\", index_col = \"Date\", infer_datetime_format=True)"
   ]
  },
  {
   "cell_type": "code",
   "execution_count": 10,
   "metadata": {},
   "outputs": [
    {
     "name": "stdout",
     "output_type": "stream",
     "text": [
      "Financial Analysis\n",
      "----------------------------\n",
      "Total Months: 86\n",
      "Total: $ 38382578\n",
      "Average Change: $ -2315.12\n",
      "Greatest Increase in Profits: Feb-2012 $(1926159)\n",
      "Greatest Decrease in Profits: Sep-2013 $(-2196167)\n"
     ]
    }
   ],
   "source": [
    "df[\"change\"] = df[\"Profit/Losses\"].diff() #Calculate changes in column Profit/Losses add column change\n",
    "max_date = 0\n",
    "min_date = 0\n",
    "for index, row in df.iterrows():\n",
    "    if row[\"change\"] == df['change'].max(): #Find where index = max value in change column\n",
    "        max_date = index\n",
    "    if row[\"change\"] == df['change'].min(): #Find where index = min value in change column\n",
    "        min_date = index\n",
    "\n",
    "       \n",
    "print (\"Financial Analysis\")\n",
    "print (\"----------------------------\")\n",
    "print (\"Total Months:\",df[\"Profit/Losses\"].count()) #Value is already by Month. Count column \"Profit/Losses\".\n",
    "print (\"Total: $\",df[\"Profit/Losses\"].sum()) #Sum total Profit/Losses column in df\n",
    "print (f\"Average Change: $ {df['change'].mean():0.2f}\") #Calculate average changes in column change\n",
    "print (f\"Greatest Increase in Profits: {max_date} $({df['change'].max():0.0f})\") #Find max value in column change\n",
    "print (f\"Greatest Decrease in Profits: {min_date} $({df['change'].min():0.0f})\") #Find min value in column change"
   ]
  },
  {
   "cell_type": "code",
   "execution_count": null,
   "metadata": {},
   "outputs": [],
   "source": []
  },
  {
   "cell_type": "code",
   "execution_count": null,
   "metadata": {},
   "outputs": [],
   "source": []
  },
  {
   "cell_type": "code",
   "execution_count": null,
   "metadata": {},
   "outputs": [],
   "source": []
  }
 ],
 "metadata": {
  "kernelspec": {
   "display_name": "Python 3",
   "language": "python",
   "name": "python3"
  },
  "language_info": {
   "codemirror_mode": {
    "name": "ipython",
    "version": 3
   },
   "file_extension": ".py",
   "mimetype": "text/x-python",
   "name": "python",
   "nbconvert_exporter": "python",
   "pygments_lexer": "ipython3",
   "version": "3.6.2"
  }
 },
 "nbformat": 4,
 "nbformat_minor": 2
}
